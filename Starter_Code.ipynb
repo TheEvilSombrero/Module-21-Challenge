{
 "cells": [
  {
   "cell_type": "markdown",
   "metadata": {},
   "source": [
    "## Preprocessing"
   ]
  },
  {
   "cell_type": "code",
   "execution_count": 9,
   "metadata": {},
   "outputs": [
    {
     "data": {
      "text/html": [
       "<div>\n",
       "<style scoped>\n",
       "    .dataframe tbody tr th:only-of-type {\n",
       "        vertical-align: middle;\n",
       "    }\n",
       "\n",
       "    .dataframe tbody tr th {\n",
       "        vertical-align: top;\n",
       "    }\n",
       "\n",
       "    .dataframe thead th {\n",
       "        text-align: right;\n",
       "    }\n",
       "</style>\n",
       "<table border=\"1\" class=\"dataframe\">\n",
       "  <thead>\n",
       "    <tr style=\"text-align: right;\">\n",
       "      <th></th>\n",
       "      <th>EIN</th>\n",
       "      <th>NAME</th>\n",
       "      <th>APPLICATION_TYPE</th>\n",
       "      <th>AFFILIATION</th>\n",
       "      <th>CLASSIFICATION</th>\n",
       "      <th>USE_CASE</th>\n",
       "      <th>ORGANIZATION</th>\n",
       "      <th>STATUS</th>\n",
       "      <th>INCOME_AMT</th>\n",
       "      <th>SPECIAL_CONSIDERATIONS</th>\n",
       "      <th>ASK_AMT</th>\n",
       "      <th>IS_SUCCESSFUL</th>\n",
       "    </tr>\n",
       "  </thead>\n",
       "  <tbody>\n",
       "    <tr>\n",
       "      <th>0</th>\n",
       "      <td>10520599</td>\n",
       "      <td>BLUE KNIGHTS MOTORCYCLE CLUB</td>\n",
       "      <td>T10</td>\n",
       "      <td>Independent</td>\n",
       "      <td>C1000</td>\n",
       "      <td>ProductDev</td>\n",
       "      <td>Association</td>\n",
       "      <td>1</td>\n",
       "      <td>0</td>\n",
       "      <td>N</td>\n",
       "      <td>5000</td>\n",
       "      <td>1</td>\n",
       "    </tr>\n",
       "    <tr>\n",
       "      <th>1</th>\n",
       "      <td>10531628</td>\n",
       "      <td>AMERICAN CHESAPEAKE CLUB CHARITABLE TR</td>\n",
       "      <td>T3</td>\n",
       "      <td>Independent</td>\n",
       "      <td>C2000</td>\n",
       "      <td>Preservation</td>\n",
       "      <td>Co-operative</td>\n",
       "      <td>1</td>\n",
       "      <td>1-9999</td>\n",
       "      <td>N</td>\n",
       "      <td>108590</td>\n",
       "      <td>1</td>\n",
       "    </tr>\n",
       "    <tr>\n",
       "      <th>2</th>\n",
       "      <td>10547893</td>\n",
       "      <td>ST CLOUD PROFESSIONAL FIREFIGHTERS</td>\n",
       "      <td>T5</td>\n",
       "      <td>CompanySponsored</td>\n",
       "      <td>C3000</td>\n",
       "      <td>ProductDev</td>\n",
       "      <td>Association</td>\n",
       "      <td>1</td>\n",
       "      <td>0</td>\n",
       "      <td>N</td>\n",
       "      <td>5000</td>\n",
       "      <td>0</td>\n",
       "    </tr>\n",
       "    <tr>\n",
       "      <th>3</th>\n",
       "      <td>10553066</td>\n",
       "      <td>SOUTHSIDE ATHLETIC ASSOCIATION</td>\n",
       "      <td>T3</td>\n",
       "      <td>CompanySponsored</td>\n",
       "      <td>C2000</td>\n",
       "      <td>Preservation</td>\n",
       "      <td>Trust</td>\n",
       "      <td>1</td>\n",
       "      <td>10000-24999</td>\n",
       "      <td>N</td>\n",
       "      <td>6692</td>\n",
       "      <td>1</td>\n",
       "    </tr>\n",
       "    <tr>\n",
       "      <th>4</th>\n",
       "      <td>10556103</td>\n",
       "      <td>GENETIC RESEARCH INSTITUTE OF THE DESERT</td>\n",
       "      <td>T3</td>\n",
       "      <td>Independent</td>\n",
       "      <td>C1000</td>\n",
       "      <td>Heathcare</td>\n",
       "      <td>Trust</td>\n",
       "      <td>1</td>\n",
       "      <td>100000-499999</td>\n",
       "      <td>N</td>\n",
       "      <td>142590</td>\n",
       "      <td>1</td>\n",
       "    </tr>\n",
       "  </tbody>\n",
       "</table>\n",
       "</div>"
      ],
      "text/plain": [
       "        EIN                                      NAME APPLICATION_TYPE  \\\n",
       "0  10520599              BLUE KNIGHTS MOTORCYCLE CLUB              T10   \n",
       "1  10531628    AMERICAN CHESAPEAKE CLUB CHARITABLE TR               T3   \n",
       "2  10547893        ST CLOUD PROFESSIONAL FIREFIGHTERS               T5   \n",
       "3  10553066            SOUTHSIDE ATHLETIC ASSOCIATION               T3   \n",
       "4  10556103  GENETIC RESEARCH INSTITUTE OF THE DESERT               T3   \n",
       "\n",
       "        AFFILIATION CLASSIFICATION      USE_CASE  ORGANIZATION  STATUS  \\\n",
       "0       Independent          C1000    ProductDev   Association       1   \n",
       "1       Independent          C2000  Preservation  Co-operative       1   \n",
       "2  CompanySponsored          C3000    ProductDev   Association       1   \n",
       "3  CompanySponsored          C2000  Preservation         Trust       1   \n",
       "4       Independent          C1000     Heathcare         Trust       1   \n",
       "\n",
       "      INCOME_AMT SPECIAL_CONSIDERATIONS  ASK_AMT  IS_SUCCESSFUL  \n",
       "0              0                      N     5000              1  \n",
       "1         1-9999                      N   108590              1  \n",
       "2              0                      N     5000              0  \n",
       "3    10000-24999                      N     6692              1  \n",
       "4  100000-499999                      N   142590              1  "
      ]
     },
     "execution_count": 9,
     "metadata": {},
     "output_type": "execute_result"
    }
   ],
   "source": [
    "# Import our dependencies\n",
    "from sklearn.model_selection import train_test_split\n",
    "from sklearn.preprocessing import StandardScaler\n",
    "import pandas as pd\n",
    "import tensorflow as tf\n",
    "\n",
    "#  Import and read the charity_data.csv.\n",
    "import pandas as pd \n",
    "application_df = pd.read_csv(\"https://static.bc-edx.com/data/dl-1-2/m21/lms/starter/charity_data.csv\")\n",
    "application_df.head()"
   ]
  },
  {
   "cell_type": "code",
   "execution_count": 10,
   "metadata": {},
   "outputs": [],
   "source": [
    "# Drop the non-beneficial ID columns, 'EIN' and 'NAME'.\n",
    "application_df = application_df.drop([\"NAME\", \"EIN\"], axis=1)"
   ]
  },
  {
   "cell_type": "code",
   "execution_count": 11,
   "metadata": {},
   "outputs": [
    {
     "data": {
      "text/plain": [
       "APPLICATION_TYPE            17\n",
       "AFFILIATION                  6\n",
       "CLASSIFICATION              71\n",
       "USE_CASE                     5\n",
       "ORGANIZATION                 4\n",
       "STATUS                       2\n",
       "INCOME_AMT                   9\n",
       "SPECIAL_CONSIDERATIONS       2\n",
       "ASK_AMT                   8747\n",
       "IS_SUCCESSFUL                2\n",
       "dtype: int64"
      ]
     },
     "execution_count": 11,
     "metadata": {},
     "output_type": "execute_result"
    }
   ],
   "source": [
    "# Determine the number of unique values in each column.\n",
    "application_df.nunique()"
   ]
  },
  {
   "cell_type": "code",
   "execution_count": 12,
   "metadata": {},
   "outputs": [
    {
     "data": {
      "text/plain": [
       "T3     27037\n",
       "T4      1542\n",
       "T6      1216\n",
       "T5      1173\n",
       "T19     1065\n",
       "T8       737\n",
       "T7       725\n",
       "T10      528\n",
       "T9       156\n",
       "T13       66\n",
       "T12       27\n",
       "T2        16\n",
       "T25        3\n",
       "T14        3\n",
       "T29        2\n",
       "T15        2\n",
       "T17        1\n",
       "Name: APPLICATION_TYPE, dtype: int64"
      ]
     },
     "execution_count": 12,
     "metadata": {},
     "output_type": "execute_result"
    }
   ],
   "source": [
    "# Look at APPLICATION_TYPE value counts for binning\n",
    "application_df[\"APPLICATION_TYPE\"].value_counts()"
   ]
  },
  {
   "cell_type": "code",
   "execution_count": 13,
   "metadata": {},
   "outputs": [
    {
     "data": {
      "text/plain": [
       "T3       27037\n",
       "T4        1542\n",
       "T6        1216\n",
       "T5        1173\n",
       "T19       1065\n",
       "T8         737\n",
       "T7         725\n",
       "T10        528\n",
       "T9         156\n",
       "Other      120\n",
       "Name: APPLICATION_TYPE, dtype: int64"
      ]
     },
     "execution_count": 13,
     "metadata": {},
     "output_type": "execute_result"
    }
   ],
   "source": [
    "# Choose a cutoff value and create a list of application types to be replaced\n",
    "# use the variable name `application_types_to_replace`\n",
    "application_types_to_replace = [\"T13\", \"T12\", \"T2\", \"T25\", \"T14\", \"T29\", \"T15\", \"T17\"]\n",
    "\n",
    "# Replace in dataframe\n",
    "for app in application_types_to_replace:\n",
    "    application_df['APPLICATION_TYPE'] = application_df['APPLICATION_TYPE'].replace(app,\"Other\")\n",
    "\n",
    "# Check to make sure binning was successful\n",
    "application_df['APPLICATION_TYPE'].value_counts()"
   ]
  },
  {
   "cell_type": "code",
   "execution_count": 14,
   "metadata": {},
   "outputs": [
    {
     "data": {
      "text/plain": [
       "C1000    17326\n",
       "C2000     6074\n",
       "C1200     4837\n",
       "C3000     1918\n",
       "C2100     1883\n",
       "         ...  \n",
       "C4120        1\n",
       "C8210        1\n",
       "C2561        1\n",
       "C4500        1\n",
       "C2150        1\n",
       "Name: CLASSIFICATION, Length: 71, dtype: int64"
      ]
     },
     "execution_count": 14,
     "metadata": {},
     "output_type": "execute_result"
    }
   ],
   "source": [
    "# Look at CLASSIFICATION value counts for binning\n",
    "application_df[\"CLASSIFICATION\"].value_counts()"
   ]
  },
  {
   "cell_type": "code",
   "execution_count": 44,
   "metadata": {},
   "outputs": [
    {
     "name": "stdout",
     "output_type": "stream",
     "text": [
      "C1000    17326\n",
      "C2000     6074\n",
      "C1200     4837\n",
      "C3000     1918\n",
      "C2100     1883\n",
      "C7000      777\n",
      "C1700      287\n",
      "C4000      194\n",
      "C5000      116\n",
      "C1270      114\n",
      "C2700      104\n",
      "C2800       95\n",
      "C7100       75\n",
      "C1300       58\n",
      "C1280       50\n",
      "C1230       36\n",
      "C1400       34\n",
      "C7200       32\n",
      "C2300       32\n",
      "C1240       30\n",
      "Name: CLASSIFICATION, dtype: int64\n"
     ]
    }
   ],
   "source": [
    "# You may find it helpful to look at CLASSIFICATION value counts >1\n",
    "v_count = application_df[\"CLASSIFICATION\"].value_counts()\n",
    "more_than_one = v_count[v_count > 20]\n",
    "print(more_than_one)"
   ]
  },
  {
   "cell_type": "code",
   "execution_count": 45,
   "metadata": {},
   "outputs": [
    {
     "data": {
      "text/plain": [
       "C1000    17326\n",
       "C2000     6074\n",
       "C1200     4837\n",
       "C3000     1918\n",
       "C2100     1883\n",
       "C7000      777\n",
       "C1700      287\n",
       "Other      227\n",
       "C4000      194\n",
       "C5000      116\n",
       "C1270      114\n",
       "C2700      104\n",
       "C2800       95\n",
       "C7100       75\n",
       "C1300       58\n",
       "C1280       50\n",
       "C1230       36\n",
       "C1400       34\n",
       "C7200       32\n",
       "C2300       32\n",
       "C1240       30\n",
       "Name: CLASSIFICATION, dtype: int64"
      ]
     },
     "execution_count": 45,
     "metadata": {},
     "output_type": "execute_result"
    }
   ],
   "source": [
    "# Choose a cutoff value and create a list of classifications to be replaced\n",
    "# use the variable name `classifications_to_replace`\n",
    "classifications_to_replace = [\"C2190\", \"C4200\", \"C2600\", \"C5200\", \"C1370\", \"C1248\",     \n",
    "\"C6100\", \"C1820\", \"C1900\", \"C1236\", \"C3700\", \"C2570\", \"C1580\", \"C1245\", \"C2500\", \n",
    "\"C1570\", \"C1283\", \"C2380\", \"C1732\", \"C1728\", \"C2170\", \"C4120\", \"C8210\", \"C2561\", \n",
    "\"C4500\", \"C2150\", \"C3200\", \"C1234\", \"C1246\", \"C1267\", \"C1256\", \"C1260\", \"C2710\", \"C0\",\n",
    "\"C1257\", \"C1600\", \"C2400\", \"C1720\", \"C4100\", \"C7210\", \"C1235\", \"C1237\", \"C1238\", \n",
    "\"C1278\", \"C8200\", \"C1250\", \"C1800\", \"C6000\", \"C1500\", \"C7120\", \"C8000\"]\n",
    "\n",
    "# Replace in dataframe\n",
    "for cls in classifications_to_replace:\n",
    "    application_df['CLASSIFICATION'] = application_df['CLASSIFICATION'].replace(cls,\"Other\")\n",
    "    \n",
    "# Check to make sure binning was successful\n",
    "application_df['CLASSIFICATION'].value_counts()"
   ]
  },
  {
   "cell_type": "code",
   "execution_count": 53,
   "metadata": {},
   "outputs": [
    {
     "data": {
      "text/plain": [
       "APPLICATION_TYPE          object\n",
       "AFFILIATION               object\n",
       "CLASSIFICATION            object\n",
       "USE_CASE                  object\n",
       "ORGANIZATION              object\n",
       "STATUS                     int64\n",
       "INCOME_AMT                object\n",
       "SPECIAL_CONSIDERATIONS    object\n",
       "ASK_AMT                    int64\n",
       "IS_SUCCESSFUL              int64\n",
       "dtype: object"
      ]
     },
     "execution_count": 53,
     "metadata": {},
     "output_type": "execute_result"
    }
   ],
   "source": [
    "application_df.dtypes"
   ]
  },
  {
   "cell_type": "code",
   "execution_count": 54,
   "metadata": {},
   "outputs": [],
   "source": [
    "# Convert categorical data to numeric with `pd.get_dummies`\n",
    "application_df = pd.get_dummies(application_df)"
   ]
  },
  {
   "cell_type": "code",
   "execution_count": 56,
   "metadata": {},
   "outputs": [],
   "source": [
    "# Split our preprocessed data into our features and target arrays\n",
    "y = application_df[\"IS_SUCCESSFUL\"]\n",
    "X = application_df.drop(columns=\"IS_SUCCESSFUL\")\n",
    "\n",
    "# Split the preprocessed data into a training and testing dataset\n",
    "X_train, X_test, y_train, y_test = train_test_split(X, y, random_state=1)"
   ]
  },
  {
   "cell_type": "code",
   "execution_count": 57,
   "metadata": {},
   "outputs": [],
   "source": [
    "# Create a StandardScaler instances\n",
    "scaler = StandardScaler()\n",
    "\n",
    "# Fit the StandardScaler\n",
    "X_scaler = scaler.fit(X_train)\n",
    "\n",
    "# Scale the data\n",
    "X_train_scaled = X_scaler.transform(X_train)\n",
    "X_test_scaled = X_scaler.transform(X_test)"
   ]
  },
  {
   "cell_type": "markdown",
   "metadata": {},
   "source": [
    "## Compile, Train and Evaluate the Model"
   ]
  },
  {
   "cell_type": "code",
   "execution_count": 67,
   "metadata": {},
   "outputs": [
    {
     "data": {
      "text/plain": [
       "59"
      ]
     },
     "execution_count": 67,
     "metadata": {},
     "output_type": "execute_result"
    }
   ],
   "source": [
    "len(X_train_scaled[0])"
   ]
  },
  {
   "cell_type": "code",
   "execution_count": 68,
   "metadata": {},
   "outputs": [
    {
     "name": "stdout",
     "output_type": "stream",
     "text": [
      "Model: \"sequential_3\"\n",
      "_________________________________________________________________\n",
      " Layer (type)                Output Shape              Param #   \n",
      "=================================================================\n",
      " dense_9 (Dense)             (None, 4)                 240       \n",
      "                                                                 \n",
      " dense_10 (Dense)            (None, 8)                 40        \n",
      "                                                                 \n",
      " dense_11 (Dense)            (None, 1)                 9         \n",
      "                                                                 \n",
      "=================================================================\n",
      "Total params: 289\n",
      "Trainable params: 289\n",
      "Non-trainable params: 0\n",
      "_________________________________________________________________\n"
     ]
    }
   ],
   "source": [
    "# Define the model - deep neural net, i.e., the number of input features and hidden nodes for each layer.\n",
    "number_input_features = len(X_train_scaled[0])\n",
    "hidden_nodes_layer1 = 4\n",
    "hidden_nodes_layer2 = 8\n",
    "\n",
    "nn = tf.keras.models.Sequential()\n",
    "\n",
    "# First hidden layer\n",
    "nn.add(\n",
    "    tf.keras.layers.Dense(units=hidden_nodes_layer1, input_dim=number_input_features, activation=\"relu\")\n",
    ")\n",
    "\n",
    "# Second hidden layer\n",
    "nn.add(tf.keras.layers.Dense(units=hidden_nodes_layer2, activation=\"relu\"))\n",
    "\n",
    "# Output layer\n",
    "nn.add(tf.keras.layers.Dense(units=1, activation=\"sigmoid\"))\n",
    "\n",
    "# Check the structure of the model\n",
    "nn.summary()"
   ]
  },
  {
   "cell_type": "code",
   "execution_count": 69,
   "metadata": {},
   "outputs": [],
   "source": [
    "# Compile the model\n",
    "nn.compile(loss = 'binary_crossentropy', optimizer = 'adam', metrics=['accuracy'])"
   ]
  },
  {
   "cell_type": "code",
   "execution_count": 71,
   "metadata": {},
   "outputs": [
    {
     "name": "stdout",
     "output_type": "stream",
     "text": [
      "Epoch 1/125\n",
      "  1/804 [..............................] - ETA: 3s - loss: 0.5252 - accuracy: 0.7812"
     ]
    },
    {
     "name": "stdout",
     "output_type": "stream",
     "text": [
      "804/804 [==============================] - 1s 1ms/step - loss: 0.5513 - accuracy: 0.7286\n",
      "Epoch 2/125\n",
      "804/804 [==============================] - 1s 1ms/step - loss: 0.5509 - accuracy: 0.7298\n",
      "Epoch 3/125\n",
      "804/804 [==============================] - 1s 1ms/step - loss: 0.5506 - accuracy: 0.7300\n",
      "Epoch 4/125\n",
      "804/804 [==============================] - 1s 1ms/step - loss: 0.5502 - accuracy: 0.7289\n",
      "Epoch 5/125\n",
      "804/804 [==============================] - 1s 1ms/step - loss: 0.5503 - accuracy: 0.7298\n",
      "Epoch 6/125\n",
      "804/804 [==============================] - 1s 2ms/step - loss: 0.5497 - accuracy: 0.7316\n",
      "Epoch 7/125\n",
      "804/804 [==============================] - 1s 1ms/step - loss: 0.5498 - accuracy: 0.7302\n",
      "Epoch 8/125\n",
      "804/804 [==============================] - 1s 1ms/step - loss: 0.5495 - accuracy: 0.7306\n",
      "Epoch 9/125\n",
      "804/804 [==============================] - 1s 2ms/step - loss: 0.5493 - accuracy: 0.7303\n",
      "Epoch 10/125\n",
      "804/804 [==============================] - 1s 1ms/step - loss: 0.5491 - accuracy: 0.7316\n",
      "Epoch 11/125\n",
      "804/804 [==============================] - 1s 1ms/step - loss: 0.5489 - accuracy: 0.7302\n",
      "Epoch 12/125\n",
      "804/804 [==============================] - 1s 1ms/step - loss: 0.5488 - accuracy: 0.7320\n",
      "Epoch 13/125\n",
      "804/804 [==============================] - 1s 1ms/step - loss: 0.5485 - accuracy: 0.7306\n",
      "Epoch 14/125\n",
      "804/804 [==============================] - 1s 2ms/step - loss: 0.5486 - accuracy: 0.7307\n",
      "Epoch 15/125\n",
      "804/804 [==============================] - 1s 2ms/step - loss: 0.5481 - accuracy: 0.7312\n",
      "Epoch 16/125\n",
      "804/804 [==============================] - 1s 2ms/step - loss: 0.5482 - accuracy: 0.7316\n",
      "Epoch 17/125\n",
      "804/804 [==============================] - 1s 1ms/step - loss: 0.5482 - accuracy: 0.7310\n",
      "Epoch 18/125\n",
      "804/804 [==============================] - 1s 2ms/step - loss: 0.5479 - accuracy: 0.7319\n",
      "Epoch 19/125\n",
      "804/804 [==============================] - 1s 2ms/step - loss: 0.5479 - accuracy: 0.7325\n",
      "Epoch 20/125\n",
      "804/804 [==============================] - 1s 1ms/step - loss: 0.5480 - accuracy: 0.7318\n",
      "Epoch 21/125\n",
      "804/804 [==============================] - 1s 1ms/step - loss: 0.5476 - accuracy: 0.7325\n",
      "Epoch 22/125\n",
      "804/804 [==============================] - 1s 2ms/step - loss: 0.5477 - accuracy: 0.7331\n",
      "Epoch 23/125\n",
      "804/804 [==============================] - 1s 2ms/step - loss: 0.5474 - accuracy: 0.7331\n",
      "Epoch 24/125\n",
      "804/804 [==============================] - 1s 1ms/step - loss: 0.5475 - accuracy: 0.7328\n",
      "Epoch 25/125\n",
      "804/804 [==============================] - 1s 1ms/step - loss: 0.5473 - accuracy: 0.7321\n",
      "Epoch 26/125\n",
      "804/804 [==============================] - 1s 2ms/step - loss: 0.5471 - accuracy: 0.7317\n",
      "Epoch 27/125\n",
      "804/804 [==============================] - 2s 2ms/step - loss: 0.5472 - accuracy: 0.7316\n",
      "Epoch 28/125\n",
      "804/804 [==============================] - 1s 2ms/step - loss: 0.5473 - accuracy: 0.7326\n",
      "Epoch 29/125\n",
      "804/804 [==============================] - 1s 1ms/step - loss: 0.5469 - accuracy: 0.7324\n",
      "Epoch 30/125\n",
      "804/804 [==============================] - 1s 1ms/step - loss: 0.5469 - accuracy: 0.7307\n",
      "Epoch 31/125\n",
      "804/804 [==============================] - 1s 2ms/step - loss: 0.5466 - accuracy: 0.7325\n",
      "Epoch 32/125\n",
      "804/804 [==============================] - 1s 2ms/step - loss: 0.5467 - accuracy: 0.7310\n",
      "Epoch 33/125\n",
      "804/804 [==============================] - 1s 1ms/step - loss: 0.5462 - accuracy: 0.7323\n",
      "Epoch 34/125\n",
      "804/804 [==============================] - 1s 2ms/step - loss: 0.5466 - accuracy: 0.7320\n",
      "Epoch 35/125\n",
      "804/804 [==============================] - 1s 2ms/step - loss: 0.5462 - accuracy: 0.7315\n",
      "Epoch 36/125\n",
      "804/804 [==============================] - 1s 1ms/step - loss: 0.5463 - accuracy: 0.7320\n",
      "Epoch 37/125\n",
      "804/804 [==============================] - 1s 1ms/step - loss: 0.5465 - accuracy: 0.7332\n",
      "Epoch 38/125\n",
      "804/804 [==============================] - 1s 2ms/step - loss: 0.5463 - accuracy: 0.7327\n",
      "Epoch 39/125\n",
      "804/804 [==============================] - 1s 1ms/step - loss: 0.5461 - accuracy: 0.7329\n",
      "Epoch 40/125\n",
      "804/804 [==============================] - 1s 2ms/step - loss: 0.5461 - accuracy: 0.7328\n",
      "Epoch 41/125\n",
      "804/804 [==============================] - 1s 1ms/step - loss: 0.5460 - accuracy: 0.7328\n",
      "Epoch 42/125\n",
      "804/804 [==============================] - 1s 1ms/step - loss: 0.5456 - accuracy: 0.7331\n",
      "Epoch 43/125\n",
      "804/804 [==============================] - 1s 1ms/step - loss: 0.5459 - accuracy: 0.7336\n",
      "Epoch 44/125\n",
      "804/804 [==============================] - 1s 1ms/step - loss: 0.5459 - accuracy: 0.7331\n",
      "Epoch 45/125\n",
      "804/804 [==============================] - 1s 1ms/step - loss: 0.5458 - accuracy: 0.7329\n",
      "Epoch 46/125\n",
      "804/804 [==============================] - 1s 1ms/step - loss: 0.5457 - accuracy: 0.7332\n",
      "Epoch 47/125\n",
      "804/804 [==============================] - 1s 2ms/step - loss: 0.5457 - accuracy: 0.7327\n",
      "Epoch 48/125\n",
      "804/804 [==============================] - 2s 2ms/step - loss: 0.5456 - accuracy: 0.7333\n",
      "Epoch 49/125\n",
      "804/804 [==============================] - 2s 2ms/step - loss: 0.5456 - accuracy: 0.7324\n",
      "Epoch 50/125\n",
      "804/804 [==============================] - 1s 1ms/step - loss: 0.5455 - accuracy: 0.7329\n",
      "Epoch 51/125\n",
      "804/804 [==============================] - 1s 2ms/step - loss: 0.5456 - accuracy: 0.7324\n",
      "Epoch 52/125\n",
      "804/804 [==============================] - 1s 2ms/step - loss: 0.5454 - accuracy: 0.7334\n",
      "Epoch 53/125\n",
      "804/804 [==============================] - 1s 1ms/step - loss: 0.5454 - accuracy: 0.7329\n",
      "Epoch 54/125\n",
      "804/804 [==============================] - 1s 2ms/step - loss: 0.5452 - accuracy: 0.7335\n",
      "Epoch 55/125\n",
      "804/804 [==============================] - 1s 2ms/step - loss: 0.5454 - accuracy: 0.7326\n",
      "Epoch 56/125\n",
      "804/804 [==============================] - 1s 2ms/step - loss: 0.5453 - accuracy: 0.7329\n",
      "Epoch 57/125\n",
      "804/804 [==============================] - 1s 2ms/step - loss: 0.5451 - accuracy: 0.7339\n",
      "Epoch 58/125\n",
      "804/804 [==============================] - 1s 1ms/step - loss: 0.5453 - accuracy: 0.7335\n",
      "Epoch 59/125\n",
      "804/804 [==============================] - 1s 1ms/step - loss: 0.5451 - accuracy: 0.7340\n",
      "Epoch 60/125\n",
      "804/804 [==============================] - 1s 2ms/step - loss: 0.5452 - accuracy: 0.7336\n",
      "Epoch 61/125\n",
      "804/804 [==============================] - 1s 1ms/step - loss: 0.5447 - accuracy: 0.7342\n",
      "Epoch 62/125\n",
      "804/804 [==============================] - 1s 2ms/step - loss: 0.5453 - accuracy: 0.7332\n",
      "Epoch 63/125\n",
      "804/804 [==============================] - 1s 2ms/step - loss: 0.5449 - accuracy: 0.7332\n",
      "Epoch 64/125\n",
      "804/804 [==============================] - 1s 1ms/step - loss: 0.5451 - accuracy: 0.7331\n",
      "Epoch 65/125\n",
      "804/804 [==============================] - 1s 1ms/step - loss: 0.5452 - accuracy: 0.7335\n",
      "Epoch 66/125\n",
      "804/804 [==============================] - 1s 1ms/step - loss: 0.5449 - accuracy: 0.7333\n",
      "Epoch 67/125\n",
      "804/804 [==============================] - 1s 1ms/step - loss: 0.5450 - accuracy: 0.7335\n",
      "Epoch 68/125\n",
      "804/804 [==============================] - 1s 2ms/step - loss: 0.5447 - accuracy: 0.7332\n",
      "Epoch 69/125\n",
      "804/804 [==============================] - 2s 2ms/step - loss: 0.5450 - accuracy: 0.7334\n",
      "Epoch 70/125\n",
      "804/804 [==============================] - 1s 1ms/step - loss: 0.5450 - accuracy: 0.7339\n",
      "Epoch 71/125\n",
      "804/804 [==============================] - 1s 1ms/step - loss: 0.5450 - accuracy: 0.7338\n",
      "Epoch 72/125\n",
      "804/804 [==============================] - 1s 1ms/step - loss: 0.5448 - accuracy: 0.7338\n",
      "Epoch 73/125\n",
      "804/804 [==============================] - 1s 1ms/step - loss: 0.5448 - accuracy: 0.7333\n",
      "Epoch 74/125\n",
      "804/804 [==============================] - 1s 1ms/step - loss: 0.5448 - accuracy: 0.7335\n",
      "Epoch 75/125\n",
      "804/804 [==============================] - 2s 2ms/step - loss: 0.5447 - accuracy: 0.7337\n",
      "Epoch 76/125\n",
      "804/804 [==============================] - 2s 2ms/step - loss: 0.5450 - accuracy: 0.7326\n",
      "Epoch 77/125\n",
      "804/804 [==============================] - 1s 2ms/step - loss: 0.5446 - accuracy: 0.7338\n",
      "Epoch 78/125\n",
      "804/804 [==============================] - 1s 1ms/step - loss: 0.5446 - accuracy: 0.7334\n",
      "Epoch 79/125\n",
      "804/804 [==============================] - 1s 2ms/step - loss: 0.5448 - accuracy: 0.7336\n",
      "Epoch 80/125\n",
      "804/804 [==============================] - 1s 1ms/step - loss: 0.5446 - accuracy: 0.7334\n",
      "Epoch 81/125\n",
      "804/804 [==============================] - 1s 2ms/step - loss: 0.5447 - accuracy: 0.7330\n",
      "Epoch 82/125\n",
      "804/804 [==============================] - 1s 2ms/step - loss: 0.5445 - accuracy: 0.7335\n",
      "Epoch 83/125\n",
      "804/804 [==============================] - 1s 2ms/step - loss: 0.5446 - accuracy: 0.7345\n",
      "Epoch 84/125\n",
      "804/804 [==============================] - 1s 2ms/step - loss: 0.5445 - accuracy: 0.7330\n",
      "Epoch 85/125\n",
      "804/804 [==============================] - 1s 1ms/step - loss: 0.5445 - accuracy: 0.7342\n",
      "Epoch 86/125\n",
      "804/804 [==============================] - 1s 1ms/step - loss: 0.5443 - accuracy: 0.7339\n",
      "Epoch 87/125\n",
      "804/804 [==============================] - 1s 2ms/step - loss: 0.5446 - accuracy: 0.7339\n",
      "Epoch 88/125\n",
      "804/804 [==============================] - 1s 1ms/step - loss: 0.5443 - accuracy: 0.7336\n",
      "Epoch 89/125\n",
      "804/804 [==============================] - 1s 2ms/step - loss: 0.5445 - accuracy: 0.7331\n",
      "Epoch 90/125\n",
      "804/804 [==============================] - 1s 1ms/step - loss: 0.5444 - accuracy: 0.7340\n",
      "Epoch 91/125\n",
      "804/804 [==============================] - 1s 2ms/step - loss: 0.5442 - accuracy: 0.7343\n",
      "Epoch 92/125\n",
      "804/804 [==============================] - 1s 2ms/step - loss: 0.5444 - accuracy: 0.7340\n",
      "Epoch 93/125\n",
      "804/804 [==============================] - 1s 1ms/step - loss: 0.5445 - accuracy: 0.7335\n",
      "Epoch 94/125\n",
      "804/804 [==============================] - 1s 1ms/step - loss: 0.5442 - accuracy: 0.7342\n",
      "Epoch 95/125\n",
      "804/804 [==============================] - 1s 2ms/step - loss: 0.5445 - accuracy: 0.7339\n",
      "Epoch 96/125\n",
      "804/804 [==============================] - 1s 1ms/step - loss: 0.5444 - accuracy: 0.7338\n",
      "Epoch 97/125\n",
      "804/804 [==============================] - 1s 1ms/step - loss: 0.5443 - accuracy: 0.7348\n",
      "Epoch 98/125\n",
      "804/804 [==============================] - 1s 1ms/step - loss: 0.5441 - accuracy: 0.7337\n",
      "Epoch 99/125\n",
      "804/804 [==============================] - 1s 1ms/step - loss: 0.5443 - accuracy: 0.7342\n",
      "Epoch 100/125\n",
      "804/804 [==============================] - 1s 1ms/step - loss: 0.5444 - accuracy: 0.7338\n",
      "Epoch 101/125\n",
      "804/804 [==============================] - 1s 1ms/step - loss: 0.5442 - accuracy: 0.7345\n",
      "Epoch 102/125\n",
      "804/804 [==============================] - 1s 1ms/step - loss: 0.5443 - accuracy: 0.7339\n",
      "Epoch 103/125\n",
      "804/804 [==============================] - 1s 1ms/step - loss: 0.5444 - accuracy: 0.7339\n",
      "Epoch 104/125\n",
      "804/804 [==============================] - 1s 1ms/step - loss: 0.5440 - accuracy: 0.7338\n",
      "Epoch 105/125\n",
      "804/804 [==============================] - 1s 1ms/step - loss: 0.5442 - accuracy: 0.7337\n",
      "Epoch 106/125\n",
      "804/804 [==============================] - 1s 1ms/step - loss: 0.5442 - accuracy: 0.7343\n",
      "Epoch 107/125\n",
      "804/804 [==============================] - 2s 2ms/step - loss: 0.5442 - accuracy: 0.7340\n",
      "Epoch 108/125\n",
      "804/804 [==============================] - 2s 2ms/step - loss: 0.5439 - accuracy: 0.7337\n",
      "Epoch 109/125\n",
      "804/804 [==============================] - 1s 2ms/step - loss: 0.5442 - accuracy: 0.7350\n",
      "Epoch 110/125\n",
      "804/804 [==============================] - 1s 2ms/step - loss: 0.5441 - accuracy: 0.7339\n",
      "Epoch 111/125\n",
      "804/804 [==============================] - 1s 1ms/step - loss: 0.5439 - accuracy: 0.7343\n",
      "Epoch 112/125\n",
      "804/804 [==============================] - 1s 2ms/step - loss: 0.5444 - accuracy: 0.7339\n",
      "Epoch 113/125\n",
      "804/804 [==============================] - 2s 2ms/step - loss: 0.5440 - accuracy: 0.7344\n",
      "Epoch 114/125\n",
      "804/804 [==============================] - 2s 3ms/step - loss: 0.5441 - accuracy: 0.7348\n",
      "Epoch 115/125\n",
      "804/804 [==============================] - 1s 2ms/step - loss: 0.5441 - accuracy: 0.7351\n",
      "Epoch 116/125\n",
      "804/804 [==============================] - 1s 2ms/step - loss: 0.5440 - accuracy: 0.7340\n",
      "Epoch 117/125\n",
      "804/804 [==============================] - 1s 2ms/step - loss: 0.5441 - accuracy: 0.7346\n",
      "Epoch 118/125\n",
      "804/804 [==============================] - 1s 2ms/step - loss: 0.5440 - accuracy: 0.7344\n",
      "Epoch 119/125\n",
      "804/804 [==============================] - 1s 2ms/step - loss: 0.5440 - accuracy: 0.7341\n",
      "Epoch 120/125\n",
      "804/804 [==============================] - 2s 2ms/step - loss: 0.5438 - accuracy: 0.7348\n",
      "Epoch 121/125\n",
      "804/804 [==============================] - 2s 2ms/step - loss: 0.5438 - accuracy: 0.7350\n",
      "Epoch 122/125\n",
      "804/804 [==============================] - 2s 2ms/step - loss: 0.5439 - accuracy: 0.7346\n",
      "Epoch 123/125\n",
      "804/804 [==============================] - 1s 2ms/step - loss: 0.5442 - accuracy: 0.7348\n",
      "Epoch 124/125\n",
      "804/804 [==============================] - 1s 1ms/step - loss: 0.5441 - accuracy: 0.7340\n",
      "Epoch 125/125\n",
      "804/804 [==============================] - 1s 2ms/step - loss: 0.5438 - accuracy: 0.7342\n"
     ]
    }
   ],
   "source": [
    "# Train the model\n",
    "fit_model = nn.fit(X_train_scaled, y_train, epochs=125)"
   ]
  },
  {
   "cell_type": "code",
   "execution_count": 72,
   "metadata": {},
   "outputs": [
    {
     "name": "stdout",
     "output_type": "stream",
     "text": [
      "268/268 - 0s - loss: 0.5532 - accuracy: 0.7318 - 348ms/epoch - 1ms/step\n",
      "Loss: 0.553202211856842, Accuracy: 0.7317784428596497\n"
     ]
    }
   ],
   "source": [
    "# Evaluate the model using the test data\n",
    "model_loss, model_accuracy = nn.evaluate(X_test_scaled,y_test,verbose=2)\n",
    "print(f\"Loss: {model_loss}, Accuracy: {model_accuracy}\")"
   ]
  },
  {
   "cell_type": "code",
   "execution_count": 38,
   "metadata": {},
   "outputs": [],
   "source": [
    "# Export our model to HDF5 file\n",
    "import h5py"
   ]
  }
 ],
 "metadata": {
  "kernelspec": {
   "display_name": "Python 3",
   "language": "python",
   "name": "python3"
  },
  "language_info": {
   "codemirror_mode": {
    "name": "ipython",
    "version": 3
   },
   "file_extension": ".py",
   "mimetype": "text/x-python",
   "name": "python",
   "nbconvert_exporter": "python",
   "pygments_lexer": "ipython3",
   "version": "3.7.7"
  },
  "vscode": {
   "interpreter": {
    "hash": "31f2aee4e71d21fbe5cf8b01ff0e069b9275f58929596ceb00d14d90e3e16cd6"
   }
  }
 },
 "nbformat": 4,
 "nbformat_minor": 4
}
